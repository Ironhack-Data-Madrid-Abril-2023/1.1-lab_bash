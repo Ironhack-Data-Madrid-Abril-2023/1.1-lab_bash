{
 "cells": [
  {
   "cell_type": "code",
   "execution_count": 2,
   "id": "2a64928a",
   "metadata": {},
   "outputs": [],
   "source": [
    "# Imprime en consola Hello World.\n",
    "\n",
    "# echo Hello World"
   ]
  },
  {
   "cell_type": "code",
   "execution_count": 3,
   "id": "51a0e82b",
   "metadata": {},
   "outputs": [],
   "source": [
    "# Crea un directorio nuevo llamado new_dir.\n",
    "\n",
    "# mkdir new_dir"
   ]
  },
  {
   "cell_type": "code",
   "execution_count": 4,
   "id": "34d175bd",
   "metadata": {},
   "outputs": [],
   "source": [
    "# Elimina ese directorio.\n",
    "\n",
    "# rm -r new_dir"
   ]
  },
  {
   "cell_type": "code",
   "execution_count": 5,
   "id": "7c214fec",
   "metadata": {},
   "outputs": [],
   "source": [
    "# Copia el archivo sed.txt dentro de la carpeta lorem a la carpeta lorem-copy. TIP: Puede ser necesario crear la carpeta \n",
    "# lorem-copy primero.\n",
    "\n",
    "# cp sed.txt ../lorem-copy"
   ]
  },
  {
   "cell_type": "code",
   "execution_count": 6,
   "id": "60332bb8",
   "metadata": {},
   "outputs": [],
   "source": [
    "# Muestra el contenido del archivo sed.txt dentro de la carpeta lorem.\n",
    "\n",
    "# cat sed.txt"
   ]
  },
  {
   "cell_type": "code",
   "execution_count": 7,
   "id": "6002a1f5",
   "metadata": {},
   "outputs": [],
   "source": [
    "# Muestra el contenido de los archivos at.txt y lorem.txt dentro de la carpeta lorem.\n",
    "\n",
    "# cat at.txt lorem.txt"
   ]
  },
  {
   "cell_type": "code",
   "execution_count": 8,
   "id": "2e70bcd3",
   "metadata": {},
   "outputs": [],
   "source": [
    "# Visualiza las primeras 3 líneas del archivo sed.txt dentro de la carpeta lorem-copy\n",
    "\n",
    "# head -n 3 sed.txt"
   ]
  },
  {
   "cell_type": "code",
   "execution_count": 9,
   "id": "d3bfab56",
   "metadata": {},
   "outputs": [],
   "source": [
    "# Añade Homo homini lupus. al final de archivo sed.txt dentro de la carpeta lorem-copy.\n",
    "\n",
    "# echo \"Homo homini lupus.\" >> sed.txt"
   ]
  },
  {
   "cell_type": "code",
   "execution_count": 10,
   "id": "b3e48000",
   "metadata": {},
   "outputs": [],
   "source": [
    "# Visualiza las últimas 3 líneas del archivo sed.txt dentro de la carpeta lorem-copy. Deberías ver ahora Homo homini lupus..\n",
    "\n",
    "# tail -n 3"
   ]
  },
  {
   "cell_type": "code",
   "execution_count": 11,
   "id": "bc38a644",
   "metadata": {},
   "outputs": [],
   "source": [
    "# Encuentra al usuario activo en el sistema.\n",
    "\n",
    "# whoami"
   ]
  },
  {
   "cell_type": "code",
   "execution_count": 12,
   "id": "225883ad",
   "metadata": {},
   "outputs": [],
   "source": [
    "# Encuentra dónde estás en tu sistema de ficheros.\n",
    "\n",
    "# pwd"
   ]
  },
  {
   "cell_type": "code",
   "execution_count": 13,
   "id": "2116fd70",
   "metadata": {},
   "outputs": [],
   "source": [
    "# Lista los archivos que terminan por .txt en la carpeta lorem.\n",
    "\n",
    "# ls *txt"
   ]
  },
  {
   "cell_type": "code",
   "execution_count": 14,
   "id": "adb7fd07",
   "metadata": {},
   "outputs": [],
   "source": [
    "# Cuenta el número de líneas que tiene el archivo sed.txt dentro de la carpeta lorem.\n",
    "\n",
    "# ls lorem* | wc -1"
   ]
  },
  {
   "cell_type": "code",
   "execution_count": 15,
   "id": "06f2e900",
   "metadata": {},
   "outputs": [],
   "source": [
    "# Cuenta el número de archivos que empiezan por lorem que están en este directorio y en directorios internos.\n",
    "\n",
    "# ls lorem* | wc -l"
   ]
  },
  {
   "cell_type": "code",
   "execution_count": 16,
   "id": "80b11f47",
   "metadata": {},
   "outputs": [],
   "source": [
    "# Cuenta el número de apariciones del string et en at.txt dentro de la carpeta lorem.\n",
    "\n",
    "# grep -c \"et\" at.txt"
   ]
  }
 ],
 "metadata": {
  "kernelspec": {
   "display_name": "Python 3 (ipykernel)",
   "language": "python",
   "name": "python3"
  },
  "language_info": {
   "codemirror_mode": {
    "name": "ipython",
    "version": 3
   },
   "file_extension": ".py",
   "mimetype": "text/x-python",
   "name": "python",
   "nbconvert_exporter": "python",
   "pygments_lexer": "ipython3",
   "version": "3.10.9"
  }
 },
 "nbformat": 4,
 "nbformat_minor": 5
}
