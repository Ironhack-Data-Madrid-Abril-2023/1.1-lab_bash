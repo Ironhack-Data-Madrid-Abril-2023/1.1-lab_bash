{
 "cells": [
  {
   "cell_type": "code",
   "execution_count": 1,
   "id": "a24e5428",
   "metadata": {},
   "outputs": [],
   "source": [
    "#Q1. Imprime en consola Hello World."
   ]
  },
  {
   "cell_type": "code",
   "execution_count": 3,
   "id": "cd0cf74a",
   "metadata": {},
   "outputs": [],
   "source": [
    "#A. (base) PS C:\\Users\\javir\\IRONHACK\\lorem> echo 'hello world'"
   ]
  },
  {
   "cell_type": "code",
   "execution_count": 4,
   "id": "9d341d60",
   "metadata": {},
   "outputs": [],
   "source": [
    "#Q2. Crea un directorio nuevo llamado new_dir."
   ]
  },
  {
   "cell_type": "code",
   "execution_count": 5,
   "id": "2d0da619",
   "metadata": {},
   "outputs": [],
   "source": [
    "#A. (base) PS C:\\Users\\javir\\IRONHACK\\lorem> mkdir new_dir"
   ]
  },
  {
   "cell_type": "code",
   "execution_count": 6,
   "id": "9c06bb34",
   "metadata": {},
   "outputs": [],
   "source": [
    "#Q3. Elimina ese directorio."
   ]
  },
  {
   "cell_type": "code",
   "execution_count": 7,
   "id": "a77bea0a",
   "metadata": {},
   "outputs": [],
   "source": [
    "#A. (base) PS C:\\Users\\javir\\IRONHACK\\lorem> rmdir new_dir"
   ]
  },
  {
   "cell_type": "code",
   "execution_count": 8,
   "id": "2fdc1001",
   "metadata": {},
   "outputs": [],
   "source": [
    "#Q4. Copia el archivo sed.txt dentro de la carpeta lorem a la carpeta lorem-copy. TIP: Puede ser necesario crear la carpeta lorem-copy primero."
   ]
  },
  {
   "cell_type": "code",
   "execution_count": 9,
   "id": "69fe1fde",
   "metadata": {},
   "outputs": [],
   "source": [
    "#A. (base) PS C:\\Users\\javir\\IRONHACK\\lorem\\lorem> cp sed.txt lorem_copy/"
   ]
  },
  {
   "cell_type": "code",
   "execution_count": 10,
   "id": "31ffc451",
   "metadata": {},
   "outputs": [],
   "source": [
    "#Q5. Muestra el contenido del archivo sed.txt dentro de la carpeta lorem."
   ]
  },
  {
   "cell_type": "code",
   "execution_count": 11,
   "id": "141c2fc3",
   "metadata": {},
   "outputs": [],
   "source": [
    "#(base) PS C:\\Users\\javir\\IRONHACK\\lorem\\lorem> cat sed.txt"
   ]
  },
  {
   "cell_type": "code",
   "execution_count": 12,
   "id": "70a639e7",
   "metadata": {},
   "outputs": [],
   "source": [
    "#Q6. Muestra el contenido de los archivos at.txt y lorem.txt dentro de la carpeta lorem."
   ]
  },
  {
   "cell_type": "code",
   "execution_count": 13,
   "id": "75fb17ca",
   "metadata": {},
   "outputs": [],
   "source": [
    "#A. (base) PS C:\\Users\\javir\\IRONHACK\\lorem\\lorem> cat at.txt\n",
    "#(base) PS C:\\Users\\javir\\IRONHACK\\lorem\\lorem> cat lorem.txt"
   ]
  },
  {
   "cell_type": "code",
   "execution_count": 15,
   "id": "18d3e073",
   "metadata": {},
   "outputs": [],
   "source": [
    "#Q7. Visualiza las primeras 3 líneas del archivo sed.txt dentro de la carpeta lorem-copy"
   ]
  },
  {
   "cell_type": "code",
   "execution_count": 16,
   "id": "5b3baa69",
   "metadata": {},
   "outputs": [],
   "source": [
    "#A. (base) PS C:\\Users\\javir\\IRONHACK\\lorem\\lorem\\lorem_copy> Get-Content sed.txt | Select-Object -First 3"
   ]
  },
  {
   "cell_type": "code",
   "execution_count": 17,
   "id": "c5f568a1",
   "metadata": {},
   "outputs": [],
   "source": [
    "#Q8. Añade Homo homini lupus. al final de archivo sed.txt dentro de la carpeta lorem-copy."
   ]
  },
  {
   "cell_type": "code",
   "execution_count": 18,
   "id": "f3cdaab6",
   "metadata": {},
   "outputs": [],
   "source": [
    "#A. (base) PS C:\\Users\\javir\\IRONHACK\\lorem\\lorem\\lorem_copy> echo \"Homo Homini Lupus\" >> sed.txt"
   ]
  },
  {
   "cell_type": "code",
   "execution_count": 19,
   "id": "370b9104",
   "metadata": {},
   "outputs": [],
   "source": [
    "#Q9. Visualiza las últimas 3 líneas del archivo sed.txt dentro de la carpeta lorem-copy. Deberías ver ahora Homo homini lupus.."
   ]
  },
  {
   "cell_type": "code",
   "execution_count": 20,
   "id": "09cfe73a",
   "metadata": {},
   "outputs": [],
   "source": [
    "#A. (base) PS C:\\Users\\javir\\IRONHACK\\lorem\\lorem\\lorem_copy> Get-Content sed.txt -Tail 3"
   ]
  },
  {
   "cell_type": "code",
   "execution_count": 21,
   "id": "657093d1",
   "metadata": {},
   "outputs": [],
   "source": [
    "#Q10. Encuentra al usuario activo en el sistema."
   ]
  },
  {
   "cell_type": "code",
   "execution_count": 22,
   "id": "dddb845b",
   "metadata": {},
   "outputs": [],
   "source": [
    "#A. (base) PS C:\\Users\\javir\\IRONHACK\\lorem\\lorem\\lorem_copy> whoami"
   ]
  },
  {
   "cell_type": "code",
   "execution_count": 23,
   "id": "479228dc",
   "metadata": {},
   "outputs": [],
   "source": [
    "#Q11. Encuentra dónde estás en tu sistema de ficheros."
   ]
  },
  {
   "cell_type": "code",
   "execution_count": 24,
   "id": "205b7130",
   "metadata": {},
   "outputs": [],
   "source": [
    "#A. (base) PS C:\\Users\\javir\\IRONHACK\\lorem\\lorem\\lorem_copy> pwd"
   ]
  },
  {
   "cell_type": "code",
   "execution_count": 25,
   "id": "ce1b7258",
   "metadata": {},
   "outputs": [],
   "source": [
    "#Q12. Lista los archivos que terminan por .txt en la carpeta lorem."
   ]
  },
  {
   "cell_type": "code",
   "execution_count": 26,
   "id": "9ad147a9",
   "metadata": {},
   "outputs": [],
   "source": [
    "#A. Get-ChildItem -Path C:\\Users\\javir\\IRONHACK\\lorem\\lorem -Filter *.txt"
   ]
  },
  {
   "cell_type": "code",
   "execution_count": 27,
   "id": "8edb8851",
   "metadata": {},
   "outputs": [],
   "source": [
    "#Q13. Cuenta el número de líneas que tiene el archivo sed.txt dentro de la carpeta lorem."
   ]
  },
  {
   "cell_type": "code",
   "execution_count": 28,
   "id": "ed56da03",
   "metadata": {},
   "outputs": [],
   "source": [
    "#A. (base) PS C:\\Users\\javir\\IRONHACK\\lorem\\lorem> Get-Content sed.txt | Measure-Object -Line"
   ]
  },
  {
   "cell_type": "code",
   "execution_count": 29,
   "id": "8328b001",
   "metadata": {},
   "outputs": [],
   "source": [
    "#Q14. Cuenta el número de archivos que empiezan por lorem que están en este directorio y en directorios internos."
   ]
  },
  {
   "cell_type": "code",
   "execution_count": 30,
   "id": "add464c0",
   "metadata": {},
   "outputs": [],
   "source": [
    "#A. (base) PS C:\\Users\\javir\\IRONHACK\\lorem\\lorem> Get-ChildItem -Recurse -Filter \"lorem*\" | Measure-Object | Select-Object -ExpandProperty Count"
   ]
  },
  {
   "cell_type": "code",
   "execution_count": null,
   "id": "d341e394",
   "metadata": {},
   "outputs": [],
   "source": []
  }
 ],
 "metadata": {
  "kernelspec": {
   "display_name": "Python 3 (ipykernel)",
   "language": "python",
   "name": "python3"
  },
  "language_info": {
   "codemirror_mode": {
    "name": "ipython",
    "version": 3
   },
   "file_extension": ".py",
   "mimetype": "text/x-python",
   "name": "python",
   "nbconvert_exporter": "python",
   "pygments_lexer": "ipython3",
   "version": "3.9.13"
  }
 },
 "nbformat": 4,
 "nbformat_minor": 5
}
