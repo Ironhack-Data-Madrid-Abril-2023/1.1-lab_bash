{
 "cells": [
  {
   "cell_type": "code",
   "execution_count": 1,
   "id": "801bc099",
   "metadata": {},
   "outputs": [],
   "source": [
    "#Q1. Imprime en consola Hello World."
   ]
  },
  {
   "cell_type": "code",
   "execution_count": 3,
   "id": "5f2e4c34",
   "metadata": {},
   "outputs": [],
   "source": [
    "#A. (base) PS C:\\Users\\javir\\IRONHACK\\lorem> echo 'hello world'"
   ]
  },
  {
   "cell_type": "code",
   "execution_count": 4,
   "id": "8a72efff",
   "metadata": {},
   "outputs": [],
   "source": [
    "#Q2. Crea un directorio nuevo llamado new_dir."
   ]
  },
  {
   "cell_type": "code",
   "execution_count": 5,
   "id": "155e9c8a",
   "metadata": {},
   "outputs": [],
   "source": [
    "#A. (base) PS C:\\Users\\javir\\IRONHACK\\lorem> mkdir new_dir"
   ]
  },
  {
   "cell_type": "code",
   "execution_count": 6,
   "id": "88a7fc15",
   "metadata": {},
   "outputs": [],
   "source": [
    "#Q3. Elimina ese directorio."
   ]
  },
  {
   "cell_type": "code",
   "execution_count": 7,
   "id": "7d52f7ed",
   "metadata": {},
   "outputs": [],
   "source": [
    "#A. (base) PS C:\\Users\\javir\\IRONHACK\\lorem> rmdir new_dir"
   ]
  },
  {
   "cell_type": "code",
   "execution_count": 8,
   "id": "527edf4c",
   "metadata": {},
   "outputs": [],
   "source": [
    "#Q4. Copia el archivo sed.txt dentro de la carpeta lorem a la carpeta lorem-copy. TIP: Puede ser necesario crear la carpeta lorem-copy primero."
   ]
  },
  {
   "cell_type": "code",
   "execution_count": 9,
   "id": "3c85cc41",
   "metadata": {},
   "outputs": [],
   "source": [
    "#A. (base) PS C:\\Users\\javir\\IRONHACK\\lorem\\lorem> cp sed.txt lorem_copy/"
   ]
  },
  {
   "cell_type": "code",
   "execution_count": 10,
   "id": "f30aed3c",
   "metadata": {},
   "outputs": [],
   "source": [
    "#Q5. Muestra el contenido del archivo sed.txt dentro de la carpeta lorem."
   ]
  },
  {
   "cell_type": "code",
   "execution_count": 11,
   "id": "034049d7",
   "metadata": {},
   "outputs": [],
   "source": [
    "#(base) PS C:\\Users\\javir\\IRONHACK\\lorem\\lorem> cat sed.txt"
   ]
  },
  {
   "cell_type": "code",
   "execution_count": 12,
   "id": "31969bf8",
   "metadata": {},
   "outputs": [],
   "source": [
    "#Q6. Muestra el contenido de los archivos at.txt y lorem.txt dentro de la carpeta lorem."
   ]
  },
  {
   "cell_type": "code",
   "execution_count": 13,
   "id": "2e16e9fe",
   "metadata": {},
   "outputs": [],
   "source": [
    "#A. (base) PS C:\\Users\\javir\\IRONHACK\\lorem\\lorem> cat at.txt\n",
    "#(base) PS C:\\Users\\javir\\IRONHACK\\lorem\\lorem> cat lorem.txt"
   ]
  },
  {
   "cell_type": "code",
   "execution_count": 15,
   "id": "83add4ae",
   "metadata": {},
   "outputs": [],
   "source": [
    "#Q7. Visualiza las primeras 3 líneas del archivo sed.txt dentro de la carpeta lorem-copy"
   ]
  },
  {
   "cell_type": "code",
   "execution_count": 16,
   "id": "30553018",
   "metadata": {},
   "outputs": [],
   "source": [
    "#A. (base) PS C:\\Users\\javir\\IRONHACK\\lorem\\lorem\\lorem_copy> Get-Content sed.txt | Select-Object -First 3"
   ]
  },
  {
   "cell_type": "code",
   "execution_count": 17,
   "id": "7c883198",
   "metadata": {},
   "outputs": [],
   "source": [
    "#Q8. Añade Homo homini lupus. al final de archivo sed.txt dentro de la carpeta lorem-copy."
   ]
  },
  {
   "cell_type": "code",
   "execution_count": 18,
   "id": "2dd50c10",
   "metadata": {},
   "outputs": [],
   "source": [
    "#A. (base) PS C:\\Users\\javir\\IRONHACK\\lorem\\lorem\\lorem_copy> echo \"Homo Homini Lupus\" >> sed.txt"
   ]
  },
  {
   "cell_type": "code",
   "execution_count": 19,
   "id": "7f7766ba",
   "metadata": {},
   "outputs": [],
   "source": [
    "#Q9. Visualiza las últimas 3 líneas del archivo sed.txt dentro de la carpeta lorem-copy. Deberías ver ahora Homo homini lupus.."
   ]
  },
  {
   "cell_type": "code",
   "execution_count": 20,
   "id": "9c07dd61",
   "metadata": {},
   "outputs": [],
   "source": [
    "#A. (base) PS C:\\Users\\javir\\IRONHACK\\lorem\\lorem\\lorem_copy> Get-Content sed.txt -Tail 3"
   ]
  },
  {
   "cell_type": "code",
   "execution_count": 21,
   "id": "8b7a78b2",
   "metadata": {},
   "outputs": [],
   "source": [
    "#Q10. Encuentra al usuario activo en el sistema."
   ]
  },
  {
   "cell_type": "code",
   "execution_count": 22,
   "id": "5b56dc01",
   "metadata": {},
   "outputs": [],
   "source": [
    "#A. (base) PS C:\\Users\\javir\\IRONHACK\\lorem\\lorem\\lorem_copy> whoami"
   ]
  },
  {
   "cell_type": "code",
   "execution_count": 23,
   "id": "3dd9b019",
   "metadata": {},
   "outputs": [],
   "source": [
    "#Q11. Encuentra dónde estás en tu sistema de ficheros."
   ]
  },
  {
   "cell_type": "code",
   "execution_count": 24,
   "id": "0abe427c",
   "metadata": {},
   "outputs": [],
   "source": [
    "#A. (base) PS C:\\Users\\javir\\IRONHACK\\lorem\\lorem\\lorem_copy> pwd"
   ]
  },
  {
   "cell_type": "code",
   "execution_count": 25,
   "id": "558e0421",
   "metadata": {},
   "outputs": [],
   "source": [
    "#Q12. Lista los archivos que terminan por .txt en la carpeta lorem."
   ]
  },
  {
   "cell_type": "code",
   "execution_count": 26,
   "id": "ee87a3bc",
   "metadata": {},
   "outputs": [],
   "source": [
    "#A. Get-ChildItem -Path C:\\Users\\javir\\IRONHACK\\lorem\\lorem -Filter *.txt"
   ]
  },
  {
   "cell_type": "code",
   "execution_count": 27,
   "id": "e1aa432a",
   "metadata": {},
   "outputs": [],
   "source": [
    "#Q13. Cuenta el número de líneas que tiene el archivo sed.txt dentro de la carpeta lorem."
   ]
  },
  {
   "cell_type": "code",
   "execution_count": 28,
   "id": "702d8d88",
   "metadata": {},
   "outputs": [],
   "source": [
    "#A. (base) PS C:\\Users\\javir\\IRONHACK\\lorem\\lorem> Get-Content sed.txt | Measure-Object -Line"
   ]
  },
  {
   "cell_type": "code",
   "execution_count": 29,
   "id": "9128fb99",
   "metadata": {},
   "outputs": [],
   "source": [
    "#Q14. Cuenta el número de archivos que empiezan por lorem que están en este directorio y en directorios internos."
   ]
  },
  {
   "cell_type": "code",
   "execution_count": 30,
   "id": "f6721cac",
   "metadata": {},
   "outputs": [],
   "source": [
    "#A. (base) PS C:\\Users\\javir\\IRONHACK\\lorem\\lorem> Get-ChildItem -Recurse -Filter \"lorem*\" | Measure-Object | Select-Object -ExpandProperty Count"
   ]
  },
  {
   "cell_type": "code",
   "execution_count": null,
   "id": "6f7bb46b",
   "metadata": {},
   "outputs": [],
   "source": []
  }
 ],
 "metadata": {
  "kernelspec": {
   "display_name": "Python 3 (ipykernel)",
   "language": "python",
   "name": "python3"
  },
  "language_info": {
   "codemirror_mode": {
    "name": "ipython",
    "version": 3
   },
   "file_extension": ".py",
   "mimetype": "text/x-python",
   "name": "python",
   "nbconvert_exporter": "python",
   "pygments_lexer": "ipython3",
   "version": "3.9.13"
  }
 },
 "nbformat": 4,
 "nbformat_minor": 5
}
